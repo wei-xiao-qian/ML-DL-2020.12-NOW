{
 "cells": [
  {
   "cell_type": "markdown",
   "metadata": {},
   "source": [
    "# python语言的缺点\n",
    "\n",
    "\n",
    "python语言唯一的不足是性能问题。Python程序运行的效率不如Java或者C代码高，但是我们可以使用Python调用C编译的代码。这样，就可以同时利用C和Python的优点，逐步地开发机器学习应用程序。可以首先使用Python编写实验程序，如果进一步想要在产品中实现机器学习，转换成C代码也不困难。如果程序是按照模块化原则组织的，我们可以先构造可运行的Python程序，然后再逐步使用C代码替换核心代码以改进程序的性能。C++Boost库就适合完成这个任务。\n",
    "\n",
    " 如果程序的算法或者思想有缺陷，则无论程序的性能如何，都无法得到正确的结果。如果解决问题的思想存在问题，那么单纯地通过提高程序的运行效率，扩展用户规模都无法解决这个核心问题。从这个角度来看，python快速实现系统的优势就更加明显了，我们可以快速地检验算法思想是否正确，如果需要，再进一步优化代码。"
   ]
  },
  {
   "cell_type": "code",
   "execution_count": 2,
   "metadata": {},
   "outputs": [],
   "source": [
    "from numpy import *"
   ]
  },
  {
   "cell_type": "code",
   "execution_count": 3,
   "metadata": {},
   "outputs": [
    {
     "data": {
      "text/plain": [
       "array([[5.01680990e-01, 1.40666579e-01, 1.62744641e-01, 3.15404400e-01],\n",
       "       [6.76932592e-02, 1.01687924e-01, 8.58762093e-01, 6.78702502e-01],\n",
       "       [5.26696106e-01, 7.98830727e-01, 2.88889414e-01, 5.18055698e-02],\n",
       "       [7.75725392e-01, 5.07346484e-04, 1.45282762e-01, 2.24039366e-01]])"
      ]
     },
     "execution_count": 3,
     "metadata": {},
     "output_type": "execute_result"
    }
   ],
   "source": [
    "#构造了一个4x4的随机数组\n",
    "random.rand(4,4)"
   ]
  },
  {
   "cell_type": "code",
   "execution_count": 4,
   "metadata": {},
   "outputs": [],
   "source": [
    "#调用mat（）函数可以将数组转化为矩阵\n",
    "randMat = mat(random.rand(4,4))"
   ]
  },
  {
   "cell_type": "code",
   "execution_count": 5,
   "metadata": {},
   "outputs": [
    {
     "data": {
      "text/plain": [
       "matrix([[0.81243511, 0.63318744, 0.29630135, 0.21903001],\n",
       "        [0.95842745, 0.04679543, 0.89896409, 0.74635842],\n",
       "        [0.07179204, 0.02758552, 0.85387759, 0.57269611],\n",
       "        [0.69761432, 0.40125702, 0.64206944, 0.89722989]])"
      ]
     },
     "execution_count": 5,
     "metadata": {},
     "output_type": "execute_result"
    }
   ],
   "source": [
    "randMat"
   ]
  },
  {
   "cell_type": "code",
   "execution_count": 6,
   "metadata": {},
   "outputs": [
    {
     "data": {
      "text/plain": [
       "matrix([[ 0.20197903,  1.23589531, -1.0789747 , -0.38868046],\n",
       "        [ 1.39457947, -1.54628432,  0.83222687,  0.4146256 ],\n",
       "        [ 0.88761986,  0.24370402,  1.77279025, -1.55096929],\n",
       "        [-1.41591566, -0.44380568, -0.80189383,  2.34121448]])"
      ]
     },
     "execution_count": 6,
     "metadata": {},
     "output_type": "execute_result"
    }
   ],
   "source": [
    "#矩阵求逆运算\n",
    "randMat.I"
   ]
  },
  {
   "cell_type": "code",
   "execution_count": 7,
   "metadata": {},
   "outputs": [
    {
     "data": {
      "text/plain": [
       "matrix([[ 1.00000000e+00,  0.00000000e+00,  1.66533454e-16,\n",
       "          0.00000000e+00],\n",
       "        [ 2.22044605e-16,  1.00000000e+00,  1.11022302e-16,\n",
       "          0.00000000e+00],\n",
       "        [ 1.11022302e-16,  5.55111512e-17,  1.00000000e+00,\n",
       "         -2.22044605e-16],\n",
       "        [ 1.11022302e-16,  2.22044605e-16,  1.11022302e-16,\n",
       "          1.00000000e+00]])"
      ]
     },
     "execution_count": 7,
     "metadata": {},
     "output_type": "execute_result"
    }
   ],
   "source": [
    "#结果应该是单位矩阵，除了对角线元素是1，其他元素应该全是0.实际输出结果略有不同，\n",
    "#这也是计算机处理误差产生的结果\n",
    "randMat * (randMat.I)"
   ]
  },
  {
   "cell_type": "code",
   "execution_count": 8,
   "metadata": {},
   "outputs": [
    {
     "data": {
      "text/plain": [
       "matrix([[ 0.00000000e+00,  0.00000000e+00,  1.66533454e-16,\n",
       "          0.00000000e+00],\n",
       "        [ 2.22044605e-16,  2.22044605e-16,  1.11022302e-16,\n",
       "          0.00000000e+00],\n",
       "        [ 1.11022302e-16,  5.55111512e-17,  0.00000000e+00,\n",
       "         -2.22044605e-16],\n",
       "        [ 1.11022302e-16,  2.22044605e-16,  1.11022302e-16,\n",
       "         -2.22044605e-16]])"
      ]
     },
     "execution_count": 8,
     "metadata": {},
     "output_type": "execute_result"
    }
   ],
   "source": [
    "#函数eye（4）创建4x4的单位矩阵\n",
    "myEye = randMat * (randMat.I)\n",
    "#得到误差值\n",
    "myEye - eye(4)"
   ]
  },
  {
   "cell_type": "code",
   "execution_count": null,
   "metadata": {},
   "outputs": [],
   "source": []
  }
 ],
 "metadata": {
  "kernelspec": {
   "display_name": "Python 3",
   "language": "python",
   "name": "python3"
  },
  "language_info": {
   "codemirror_mode": {
    "name": "ipython",
    "version": 3
   },
   "file_extension": ".py",
   "mimetype": "text/x-python",
   "name": "python",
   "nbconvert_exporter": "python",
   "pygments_lexer": "ipython3",
   "version": "3.8.3"
  }
 },
 "nbformat": 4,
 "nbformat_minor": 4
}
